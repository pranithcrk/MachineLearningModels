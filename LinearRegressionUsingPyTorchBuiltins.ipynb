{
 "cells": [
  {
   "cell_type": "code",
   "execution_count": 7,
   "id": "bbd73137",
   "metadata": {},
   "outputs": [],
   "source": [
    "import numpy as np \n",
    "import pandas as pd \n",
    "import torch \n"
   ]
  },
  {
   "cell_type": "code",
   "execution_count": 8,
   "id": "7b62bb8d",
   "metadata": {},
   "outputs": [],
   "source": [
    "df = pd.read_csv(\"bwt.csv\")"
   ]
  },
  {
   "cell_type": "code",
   "execution_count": 10,
   "id": "fb289a2b",
   "metadata": {},
   "outputs": [
    {
     "data": {
      "text/html": [
       "<div>\n",
       "<style scoped>\n",
       "    .dataframe tbody tr th:only-of-type {\n",
       "        vertical-align: middle;\n",
       "    }\n",
       "\n",
       "    .dataframe tbody tr th {\n",
       "        vertical-align: top;\n",
       "    }\n",
       "\n",
       "    .dataframe thead th {\n",
       "        text-align: right;\n",
       "    }\n",
       "</style>\n",
       "<table border=\"1\" class=\"dataframe\">\n",
       "  <thead>\n",
       "    <tr style=\"text-align: right;\">\n",
       "      <th></th>\n",
       "      <th>Unnamed: 0</th>\n",
       "      <th>bwt</th>\n",
       "      <th>gestation</th>\n",
       "      <th>parity</th>\n",
       "      <th>age</th>\n",
       "      <th>height</th>\n",
       "      <th>weight</th>\n",
       "      <th>smoke</th>\n",
       "    </tr>\n",
       "  </thead>\n",
       "  <tbody>\n",
       "    <tr>\n",
       "      <th>0</th>\n",
       "      <td>1</td>\n",
       "      <td>120</td>\n",
       "      <td>284</td>\n",
       "      <td>0</td>\n",
       "      <td>27</td>\n",
       "      <td>62</td>\n",
       "      <td>100</td>\n",
       "      <td>0</td>\n",
       "    </tr>\n",
       "    <tr>\n",
       "      <th>1</th>\n",
       "      <td>2</td>\n",
       "      <td>113</td>\n",
       "      <td>282</td>\n",
       "      <td>0</td>\n",
       "      <td>33</td>\n",
       "      <td>64</td>\n",
       "      <td>135</td>\n",
       "      <td>0</td>\n",
       "    </tr>\n",
       "    <tr>\n",
       "      <th>2</th>\n",
       "      <td>3</td>\n",
       "      <td>128</td>\n",
       "      <td>279</td>\n",
       "      <td>0</td>\n",
       "      <td>28</td>\n",
       "      <td>64</td>\n",
       "      <td>115</td>\n",
       "      <td>1</td>\n",
       "    </tr>\n",
       "    <tr>\n",
       "      <th>3</th>\n",
       "      <td>4</td>\n",
       "      <td>108</td>\n",
       "      <td>282</td>\n",
       "      <td>0</td>\n",
       "      <td>23</td>\n",
       "      <td>67</td>\n",
       "      <td>125</td>\n",
       "      <td>1</td>\n",
       "    </tr>\n",
       "    <tr>\n",
       "      <th>4</th>\n",
       "      <td>5</td>\n",
       "      <td>136</td>\n",
       "      <td>286</td>\n",
       "      <td>0</td>\n",
       "      <td>25</td>\n",
       "      <td>62</td>\n",
       "      <td>93</td>\n",
       "      <td>0</td>\n",
       "    </tr>\n",
       "  </tbody>\n",
       "</table>\n",
       "</div>"
      ],
      "text/plain": [
       "   Unnamed: 0  bwt  gestation  parity  age  height  weight  smoke\n",
       "0           1  120        284       0   27      62     100      0\n",
       "1           2  113        282       0   33      64     135      0\n",
       "2           3  128        279       0   28      64     115      1\n",
       "3           4  108        282       0   23      67     125      1\n",
       "4           5  136        286       0   25      62      93      0"
      ]
     },
     "execution_count": 10,
     "metadata": {},
     "output_type": "execute_result"
    }
   ],
   "source": [
    "df.head()"
   ]
  },
  {
   "cell_type": "code",
   "execution_count": 33,
   "id": "b4478765",
   "metadata": {},
   "outputs": [],
   "source": [
    "inputs = np.array(df[['gestation','parity','age','height','weight','smoke']],dtype='float32')"
   ]
  },
  {
   "cell_type": "code",
   "execution_count": 34,
   "id": "5c5c49c6",
   "metadata": {},
   "outputs": [],
   "source": [
    "targets = np.array(df['bwt'],dtype='float32').reshape(-1,1)"
   ]
  },
  {
   "cell_type": "code",
   "execution_count": 35,
   "id": "9407e63d",
   "metadata": {},
   "outputs": [],
   "source": [
    "inputq = torch.from_numpy(inputs)\n",
    "targetq = torch.from_numpy(targets)"
   ]
  },
  {
   "cell_type": "code",
   "execution_count": 36,
   "id": "a1858e9e",
   "metadata": {},
   "outputs": [
    {
     "data": {
      "text/plain": [
       "torch.Size([1174, 1])"
      ]
     },
     "execution_count": 36,
     "metadata": {},
     "output_type": "execute_result"
    }
   ],
   "source": [
    "targetq.shape"
   ]
  },
  {
   "cell_type": "code",
   "execution_count": 37,
   "id": "aa79e363",
   "metadata": {},
   "outputs": [
    {
     "data": {
      "text/plain": [
       "torch.Size([1174, 6])"
      ]
     },
     "execution_count": 37,
     "metadata": {},
     "output_type": "execute_result"
    }
   ],
   "source": [
    "inputq.shape"
   ]
  },
  {
   "cell_type": "code",
   "execution_count": 38,
   "id": "5f43aff3",
   "metadata": {},
   "outputs": [],
   "source": [
    "from torch.utils.data import TensorDataset,DataLoader"
   ]
  },
  {
   "cell_type": "code",
   "execution_count": 59,
   "id": "42e259d9",
   "metadata": {},
   "outputs": [
    {
     "data": {
      "text/plain": [
       "(tensor([[284.,   0.,  27.,  62., 100.,   0.],\n",
       "         [282.,   0.,  33.,  64., 135.,   0.],\n",
       "         [279.,   0.,  28.,  64., 115.,   1.],\n",
       "         [282.,   0.,  23.,  67., 125.,   1.],\n",
       "         [286.,   0.,  25.,  62.,  93.,   0.],\n",
       "         [244.,   0.,  33.,  62., 178.,   0.],\n",
       "         [245.,   0.,  23.,  65., 140.,   0.],\n",
       "         [289.,   0.,  25.,  62., 125.,   0.],\n",
       "         [299.,   0.,  30.,  66., 136.,   1.],\n",
       "         [351.,   0.,  27.,  68., 120.,   0.],\n",
       "         [282.,   0.,  32.,  64., 124.,   1.],\n",
       "         [279.,   0.,  23.,  63., 128.,   1.],\n",
       "         [281.,   0.,  36.,  61.,  99.,   1.],\n",
       "         [273.,   0.,  30.,  63., 154.,   0.],\n",
       "         [285.,   0.,  38.,  63., 130.,   0.],\n",
       "         [255.,   0.,  25.,  65., 125.,   1.],\n",
       "         [261.,   0.,  33.,  60., 125.,   1.],\n",
       "         [261.,   0.,  33.,  68., 170.,   0.],\n",
       "         [288.,   0.,  43.,  66., 142.,   1.],\n",
       "         [270.,   0.,  22.,  56.,  93.,   0.],\n",
       "         [274.,   0.,  27.,  67., 175.,   1.],\n",
       "         [287.,   0.,  25.,  66., 145.,   0.],\n",
       "         [276.,   0.,  30.,  68., 182.,   0.],\n",
       "         [294.,   0.,  23.,  65., 122.,   0.],\n",
       "         [261.,   0.,  27.,  65., 112.,   1.],\n",
       "         [280.,   0.,  26.,  58., 106.,   0.],\n",
       "         [266.,   0.,  20.,  65., 175.,   1.],\n",
       "         [292.,   0.,  32.,  65., 125.,   0.],\n",
       "         [274.,   0.,  28.,  66., 132.,   1.],\n",
       "         [270.,   0.,  26.,  61., 105.,   0.],\n",
       "         [278.,   0.,  34.,  61., 146.,   0.],\n",
       "         [268.,   0.,  30.,  66., 123.,   0.],\n",
       "         [275.,   0.,  23.,  60., 105.,   0.],\n",
       "         [281.,   0.,  24.,  65., 120.,   0.],\n",
       "         [283.,   0.,  22.,  67., 130.,   0.],\n",
       "         [279.,   0.,  24.,  63., 115.,   0.],\n",
       "         [288.,   0.,  23.,  63.,  92.,   1.],\n",
       "         [267.,   0.,  27.,  65., 101.,   1.],\n",
       "         [293.,   0.,  30.,  61., 160.,   0.],\n",
       "         [278.,   0.,  23.,  63., 177.,   0.],\n",
       "         [270.,   0.,  27.,  61., 119.,   0.],\n",
       "         [248.,   0.,  37.,  65., 130.,   1.],\n",
       "         [274.,   0.,  27.,  63., 110.,   1.],\n",
       "         [294.,   0.,  32.,  66., 150.,   0.],\n",
       "         [272.,   0.,  25.,  60.,  90.,   0.],\n",
       "         [275.,   0.,  26.,  66., 147.,   0.],\n",
       "         [291.,   0.,  26.,  63., 119.,   1.],\n",
       "         [258.,   0.,  26.,  62., 130.,   0.],\n",
       "         [283.,   0.,  31.,  65., 148.,   1.],\n",
       "         [282.,   0.,  28.,  61., 110.,   0.],\n",
       "         [286.,   0.,  31.,  64., 126.,   0.],\n",
       "         [267.,   0.,  30.,  67., 132.,   0.],\n",
       "         [275.,   0.,  22.,  60., 130.,   0.],\n",
       "         [278.,   0.,  26.,  70., 145.,   1.],\n",
       "         [257.,   0.,  33.,  65., 140.,   0.],\n",
       "         [273.,   0.,  28.,  60., 116.,   0.],\n",
       "         [232.,   0.,  33.,  61., 110.,   0.],\n",
       "         [273.,   0.,  24.,  61.,  96.,   0.],\n",
       "         [288.,   0.,  22.,  67., 118.,   0.],\n",
       "         [280.,   0.,  23.,  65., 125.,   1.],\n",
       "         [245.,   0.,  23.,  63., 130.,   1.],\n",
       "         [283.,   0.,  28.,  63., 125.,   1.],\n",
       "         [282.,   0.,  36.,  65., 115.,   1.],\n",
       "         [246.,   0.,  37.,  63., 150.,   0.],\n",
       "         [274.,   0.,  26.,  69., 137.,   1.],\n",
       "         [273.,   0.,  31.,  63., 170.,   1.],\n",
       "         [276.,   0.,  38.,  63., 170.,   0.],\n",
       "         [289.,   0.,  27.,  66., 130.,   0.],\n",
       "         [292.,   0.,  26.,  63., 118.,   0.],\n",
       "         [284.,   0.,  25.,  66., 125.,   1.],\n",
       "         [274.,   0.,  24.,  62., 120.,   0.],\n",
       "         [270.,   0.,  24.,  60., 149.,   1.],\n",
       "         [274.,   0.,  21.,  62., 110.,   0.],\n",
       "         [286.,   0.,  26.,  63., 107.,   1.],\n",
       "         [276.,   0.,  39.,  63., 130.,   0.]]),\n",
       " tensor([[120.],\n",
       "         [113.],\n",
       "         [128.],\n",
       "         [108.],\n",
       "         [136.],\n",
       "         [138.],\n",
       "         [132.],\n",
       "         [120.],\n",
       "         [143.],\n",
       "         [140.],\n",
       "         [144.],\n",
       "         [141.],\n",
       "         [110.],\n",
       "         [114.],\n",
       "         [115.],\n",
       "         [ 92.],\n",
       "         [115.],\n",
       "         [144.],\n",
       "         [119.],\n",
       "         [105.],\n",
       "         [115.],\n",
       "         [137.],\n",
       "         [122.],\n",
       "         [131.],\n",
       "         [103.],\n",
       "         [146.],\n",
       "         [114.],\n",
       "         [125.],\n",
       "         [114.],\n",
       "         [122.],\n",
       "         [ 93.],\n",
       "         [130.],\n",
       "         [119.],\n",
       "         [113.],\n",
       "         [134.],\n",
       "         [107.],\n",
       "         [134.],\n",
       "         [122.],\n",
       "         [129.],\n",
       "         [110.],\n",
       "         [111.],\n",
       "         [ 87.],\n",
       "         [143.],\n",
       "         [155.],\n",
       "         [110.],\n",
       "         [122.],\n",
       "         [145.],\n",
       "         [115.],\n",
       "         [108.],\n",
       "         [102.],\n",
       "         [143.],\n",
       "         [146.],\n",
       "         [124.],\n",
       "         [124.],\n",
       "         [145.],\n",
       "         [106.],\n",
       "         [ 75.],\n",
       "         [107.],\n",
       "         [124.],\n",
       "         [122.],\n",
       "         [101.],\n",
       "         [128.],\n",
       "         [104.],\n",
       "         [ 97.],\n",
       "         [137.],\n",
       "         [103.],\n",
       "         [142.],\n",
       "         [130.],\n",
       "         [156.],\n",
       "         [133.],\n",
       "         [120.],\n",
       "         [ 91.],\n",
       "         [127.],\n",
       "         [153.],\n",
       "         [121.]]))"
      ]
     },
     "execution_count": 59,
     "metadata": {},
     "output_type": "execute_result"
    }
   ],
   "source": [
    "train_ds = TensorDataset(inputq,targetq)\n",
    "train_ds[0:75]"
   ]
  },
  {
   "cell_type": "code",
   "execution_count": 162,
   "id": "170434e5",
   "metadata": {},
   "outputs": [],
   "source": [
    "batch_size = 1\n",
    "train_dl = DataLoader(train_ds , batch_size , shuffle = True )"
   ]
  },
  {
   "cell_type": "code",
   "execution_count": 163,
   "id": "cbf14b92",
   "metadata": {},
   "outputs": [],
   "source": [
    "import torch.nn as nn "
   ]
  },
  {
   "cell_type": "code",
   "execution_count": 164,
   "id": "5f65b56a",
   "metadata": {},
   "outputs": [
    {
     "name": "stdout",
     "output_type": "stream",
     "text": [
      "Parameter containing:\n",
      "tensor([[-0.3665, -0.1225, -0.2309, -0.2298, -0.3123, -0.1132]],\n",
      "       requires_grad=True)\n",
      "Parameter containing:\n",
      "tensor([0.1460], requires_grad=True)\n"
     ]
    }
   ],
   "source": [
    "model = nn.Linear(6,1)\n",
    "print(model.weight)\n",
    "print(model.bias)"
   ]
  },
  {
   "cell_type": "code",
   "execution_count": 165,
   "id": "31cd62ff",
   "metadata": {},
   "outputs": [
    {
     "data": {
      "text/plain": [
       "tensor([[-155.6422],\n",
       "        [-167.6841],\n",
       "        [-159.2978],\n",
       "        ...,\n",
       "        [-175.3170],\n",
       "        [-157.0923],\n",
       "        [-172.6916]], grad_fn=<AddmmBackward>)"
      ]
     },
     "execution_count": 165,
     "metadata": {},
     "output_type": "execute_result"
    }
   ],
   "source": [
    "preds = model(inputq)\n",
    "preds"
   ]
  },
  {
   "cell_type": "code",
   "execution_count": 166,
   "id": "9c0355da",
   "metadata": {},
   "outputs": [
    {
     "data": {
      "text/plain": [
       "tensor([[120.],\n",
       "        [113.],\n",
       "        [128.],\n",
       "        ...,\n",
       "        [130.],\n",
       "        [125.],\n",
       "        [117.]])"
      ]
     },
     "execution_count": 166,
     "metadata": {},
     "output_type": "execute_result"
    }
   ],
   "source": [
    "targetq"
   ]
  },
  {
   "cell_type": "code",
   "execution_count": 167,
   "id": "161763aa",
   "metadata": {},
   "outputs": [],
   "source": [
    "import torch.nn.functional as F "
   ]
  },
  {
   "cell_type": "code",
   "execution_count": 168,
   "id": "a40aa040",
   "metadata": {},
   "outputs": [],
   "source": [
    "loss_fn = F.mse_loss"
   ]
  },
  {
   "cell_type": "code",
   "execution_count": 169,
   "id": "73adc56d",
   "metadata": {},
   "outputs": [
    {
     "data": {
      "text/plain": [
       "tensor(80528.3828, grad_fn=<MseLossBackward>)"
      ]
     },
     "execution_count": 169,
     "metadata": {},
     "output_type": "execute_result"
    }
   ],
   "source": [
    "loss = loss_fn(model(inputq),targetq)\n",
    "loss"
   ]
  },
  {
   "cell_type": "code",
   "execution_count": 170,
   "id": "bef1a320",
   "metadata": {},
   "outputs": [],
   "source": [
    "opt = torch.optim.Adamax(model.parameters(), lr=1e-5)"
   ]
  },
  {
   "cell_type": "code",
   "execution_count": 172,
   "id": "37fa4566",
   "metadata": {},
   "outputs": [],
   "source": [
    "def fit(epochs,model,loss_fn,opt,train_dl):\n",
    "    for ep in range(epochs):\n",
    "        for x,y in train_dl:\n",
    "            preds = model(x)\n",
    "            \n",
    "            loss= loss_fn(preds,y)\n",
    "            \n",
    "            loss.backward()\n",
    "            \n",
    "            opt.step()\n",
    "            \n",
    "            opt.zero_grad()\n",
    "            \n",
    "        if (ep+1)%100== 0:\n",
    "            print('Epoch [{}/{}], Loss: {:.4f}'.format(ep+1,epochs,loss.item()))"
   ]
  },
  {
   "cell_type": "code",
   "execution_count": 173,
   "id": "9998e755",
   "metadata": {},
   "outputs": [
    {
     "name": "stdout",
     "output_type": "stream",
     "text": [
      "Epoch [100/400], Loss: 0.7631\n",
      "Epoch [200/400], Loss: 89.6877\n",
      "Epoch [300/400], Loss: 63.4647\n",
      "Epoch [400/400], Loss: 2.1150\n"
     ]
    }
   ],
   "source": [
    "fit(400,model,loss_fn,opt,train_dl)"
   ]
  },
  {
   "cell_type": "code",
   "execution_count": 178,
   "id": "b57dad13",
   "metadata": {},
   "outputs": [
    {
     "data": {
      "text/plain": [
       "tensor([[116.0765],\n",
       "        [122.5396],\n",
       "        [117.8489],\n",
       "        ...,\n",
       "        [126.4828],\n",
       "        [116.4610],\n",
       "        [127.0590]], grad_fn=<AddmmBackward>)"
      ]
     },
     "execution_count": 178,
     "metadata": {},
     "output_type": "execute_result"
    }
   ],
   "source": [
    "preds = model(inputq)\n",
    "preds"
   ]
  },
  {
   "cell_type": "code",
   "execution_count": 177,
   "id": "58501d07",
   "metadata": {},
   "outputs": [
    {
     "data": {
      "text/plain": [
       "tensor([[120.],\n",
       "        [113.],\n",
       "        [128.],\n",
       "        ...,\n",
       "        [130.],\n",
       "        [125.],\n",
       "        [117.]])"
      ]
     },
     "execution_count": 177,
     "metadata": {},
     "output_type": "execute_result"
    }
   ],
   "source": [
    "targetq"
   ]
  },
  {
   "cell_type": "code",
   "execution_count": null,
   "id": "88659274",
   "metadata": {},
   "outputs": [],
   "source": []
  },
  {
   "cell_type": "code",
   "execution_count": null,
   "id": "37d65463",
   "metadata": {},
   "outputs": [],
   "source": []
  }
 ],
 "metadata": {
  "kernelspec": {
   "display_name": "Python 3",
   "language": "python",
   "name": "python3"
  },
  "language_info": {
   "codemirror_mode": {
    "name": "ipython",
    "version": 3
   },
   "file_extension": ".py",
   "mimetype": "text/x-python",
   "name": "python",
   "nbconvert_exporter": "python",
   "pygments_lexer": "ipython3",
   "version": "3.7.10"
  }
 },
 "nbformat": 4,
 "nbformat_minor": 5
}
