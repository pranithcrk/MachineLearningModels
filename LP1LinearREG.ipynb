{
 "cells": [
  {
   "cell_type": "code",
   "execution_count": 1,
   "id": "a4e667ac",
   "metadata": {},
   "outputs": [
    {
     "name": "stderr",
     "output_type": "stream",
     "text": [
      "In C:\\Users\\admin\\anaconda3\\envs\\mytfenv\\lib\\site-packages\\matplotlib\\mpl-data\\stylelib\\_classic_test.mplstyle: \n",
      "The text.latex.preview rcparam was deprecated in Matplotlib 3.3 and will be removed two minor releases later.\n",
      "In C:\\Users\\admin\\anaconda3\\envs\\mytfenv\\lib\\site-packages\\matplotlib\\mpl-data\\stylelib\\_classic_test.mplstyle: \n",
      "The mathtext.fallback_to_cm rcparam was deprecated in Matplotlib 3.3 and will be removed two minor releases later.\n",
      "In C:\\Users\\admin\\anaconda3\\envs\\mytfenv\\lib\\site-packages\\matplotlib\\mpl-data\\stylelib\\_classic_test.mplstyle: Support for setting the 'mathtext.fallback_to_cm' rcParam is deprecated since 3.3 and will be removed two minor releases later; use 'mathtext.fallback : 'cm' instead.\n",
      "In C:\\Users\\admin\\anaconda3\\envs\\mytfenv\\lib\\site-packages\\matplotlib\\mpl-data\\stylelib\\_classic_test.mplstyle: \n",
      "The validate_bool_maybe_none function was deprecated in Matplotlib 3.3 and will be removed two minor releases later.\n",
      "In C:\\Users\\admin\\anaconda3\\envs\\mytfenv\\lib\\site-packages\\matplotlib\\mpl-data\\stylelib\\_classic_test.mplstyle: \n",
      "The savefig.jpeg_quality rcparam was deprecated in Matplotlib 3.3 and will be removed two minor releases later.\n",
      "In C:\\Users\\admin\\anaconda3\\envs\\mytfenv\\lib\\site-packages\\matplotlib\\mpl-data\\stylelib\\_classic_test.mplstyle: \n",
      "The keymap.all_axes rcparam was deprecated in Matplotlib 3.3 and will be removed two minor releases later.\n",
      "In C:\\Users\\admin\\anaconda3\\envs\\mytfenv\\lib\\site-packages\\matplotlib\\mpl-data\\stylelib\\_classic_test.mplstyle: \n",
      "The animation.avconv_path rcparam was deprecated in Matplotlib 3.3 and will be removed two minor releases later.\n",
      "In C:\\Users\\admin\\anaconda3\\envs\\mytfenv\\lib\\site-packages\\matplotlib\\mpl-data\\stylelib\\_classic_test.mplstyle: \n",
      "The animation.avconv_args rcparam was deprecated in Matplotlib 3.3 and will be removed two minor releases later.\n"
     ]
    }
   ],
   "source": [
    "import numpy as np \n",
    "import pandas as pd \n",
    "import seaborn as sns \n",
    "import matplotlib.pyplot as plt \n",
    "%matplotlib inline "
   ]
  },
  {
   "cell_type": "code",
   "execution_count": 2,
   "id": "c4e648c5",
   "metadata": {},
   "outputs": [],
   "source": [
    "df = pd.read_csv(\"temperatures.csv\")"
   ]
  },
  {
   "cell_type": "code",
   "execution_count": 3,
   "id": "ca5b8a53",
   "metadata": {},
   "outputs": [
    {
     "data": {
      "text/html": [
       "<div>\n",
       "<style scoped>\n",
       "    .dataframe tbody tr th:only-of-type {\n",
       "        vertical-align: middle;\n",
       "    }\n",
       "\n",
       "    .dataframe tbody tr th {\n",
       "        vertical-align: top;\n",
       "    }\n",
       "\n",
       "    .dataframe thead th {\n",
       "        text-align: right;\n",
       "    }\n",
       "</style>\n",
       "<table border=\"1\" class=\"dataframe\">\n",
       "  <thead>\n",
       "    <tr style=\"text-align: right;\">\n",
       "      <th></th>\n",
       "      <th>YEAR</th>\n",
       "      <th>JAN</th>\n",
       "      <th>FEB</th>\n",
       "      <th>MAR</th>\n",
       "      <th>APR</th>\n",
       "      <th>MAY</th>\n",
       "      <th>JUN</th>\n",
       "      <th>JUL</th>\n",
       "      <th>AUG</th>\n",
       "      <th>SEP</th>\n",
       "      <th>OCT</th>\n",
       "      <th>NOV</th>\n",
       "      <th>DEC</th>\n",
       "      <th>ANNUAL</th>\n",
       "      <th>JAN-FEB</th>\n",
       "      <th>MAR-MAY</th>\n",
       "      <th>JUN-SEP</th>\n",
       "      <th>OCT-DEC</th>\n",
       "    </tr>\n",
       "  </thead>\n",
       "  <tbody>\n",
       "    <tr>\n",
       "      <th>0</th>\n",
       "      <td>1901</td>\n",
       "      <td>22.40</td>\n",
       "      <td>24.14</td>\n",
       "      <td>29.07</td>\n",
       "      <td>31.91</td>\n",
       "      <td>33.41</td>\n",
       "      <td>33.18</td>\n",
       "      <td>31.21</td>\n",
       "      <td>30.39</td>\n",
       "      <td>30.47</td>\n",
       "      <td>29.97</td>\n",
       "      <td>27.31</td>\n",
       "      <td>24.49</td>\n",
       "      <td>28.96</td>\n",
       "      <td>23.27</td>\n",
       "      <td>31.46</td>\n",
       "      <td>31.27</td>\n",
       "      <td>27.25</td>\n",
       "    </tr>\n",
       "    <tr>\n",
       "      <th>1</th>\n",
       "      <td>1902</td>\n",
       "      <td>24.93</td>\n",
       "      <td>26.58</td>\n",
       "      <td>29.77</td>\n",
       "      <td>31.78</td>\n",
       "      <td>33.73</td>\n",
       "      <td>32.91</td>\n",
       "      <td>30.92</td>\n",
       "      <td>30.73</td>\n",
       "      <td>29.80</td>\n",
       "      <td>29.12</td>\n",
       "      <td>26.31</td>\n",
       "      <td>24.04</td>\n",
       "      <td>29.22</td>\n",
       "      <td>25.75</td>\n",
       "      <td>31.76</td>\n",
       "      <td>31.09</td>\n",
       "      <td>26.49</td>\n",
       "    </tr>\n",
       "    <tr>\n",
       "      <th>2</th>\n",
       "      <td>1903</td>\n",
       "      <td>23.44</td>\n",
       "      <td>25.03</td>\n",
       "      <td>27.83</td>\n",
       "      <td>31.39</td>\n",
       "      <td>32.91</td>\n",
       "      <td>33.00</td>\n",
       "      <td>31.34</td>\n",
       "      <td>29.98</td>\n",
       "      <td>29.85</td>\n",
       "      <td>29.04</td>\n",
       "      <td>26.08</td>\n",
       "      <td>23.65</td>\n",
       "      <td>28.47</td>\n",
       "      <td>24.24</td>\n",
       "      <td>30.71</td>\n",
       "      <td>30.92</td>\n",
       "      <td>26.26</td>\n",
       "    </tr>\n",
       "    <tr>\n",
       "      <th>3</th>\n",
       "      <td>1904</td>\n",
       "      <td>22.50</td>\n",
       "      <td>24.73</td>\n",
       "      <td>28.21</td>\n",
       "      <td>32.02</td>\n",
       "      <td>32.64</td>\n",
       "      <td>32.07</td>\n",
       "      <td>30.36</td>\n",
       "      <td>30.09</td>\n",
       "      <td>30.04</td>\n",
       "      <td>29.20</td>\n",
       "      <td>26.36</td>\n",
       "      <td>23.63</td>\n",
       "      <td>28.49</td>\n",
       "      <td>23.62</td>\n",
       "      <td>30.95</td>\n",
       "      <td>30.66</td>\n",
       "      <td>26.40</td>\n",
       "    </tr>\n",
       "    <tr>\n",
       "      <th>4</th>\n",
       "      <td>1905</td>\n",
       "      <td>22.00</td>\n",
       "      <td>22.83</td>\n",
       "      <td>26.68</td>\n",
       "      <td>30.01</td>\n",
       "      <td>33.32</td>\n",
       "      <td>33.25</td>\n",
       "      <td>31.44</td>\n",
       "      <td>30.68</td>\n",
       "      <td>30.12</td>\n",
       "      <td>30.67</td>\n",
       "      <td>27.52</td>\n",
       "      <td>23.82</td>\n",
       "      <td>28.30</td>\n",
       "      <td>22.25</td>\n",
       "      <td>30.00</td>\n",
       "      <td>31.33</td>\n",
       "      <td>26.57</td>\n",
       "    </tr>\n",
       "  </tbody>\n",
       "</table>\n",
       "</div>"
      ],
      "text/plain": [
       "   YEAR    JAN    FEB    MAR    APR    MAY    JUN    JUL    AUG    SEP    OCT  \\\n",
       "0  1901  22.40  24.14  29.07  31.91  33.41  33.18  31.21  30.39  30.47  29.97   \n",
       "1  1902  24.93  26.58  29.77  31.78  33.73  32.91  30.92  30.73  29.80  29.12   \n",
       "2  1903  23.44  25.03  27.83  31.39  32.91  33.00  31.34  29.98  29.85  29.04   \n",
       "3  1904  22.50  24.73  28.21  32.02  32.64  32.07  30.36  30.09  30.04  29.20   \n",
       "4  1905  22.00  22.83  26.68  30.01  33.32  33.25  31.44  30.68  30.12  30.67   \n",
       "\n",
       "     NOV    DEC  ANNUAL  JAN-FEB  MAR-MAY  JUN-SEP  OCT-DEC  \n",
       "0  27.31  24.49   28.96    23.27    31.46    31.27    27.25  \n",
       "1  26.31  24.04   29.22    25.75    31.76    31.09    26.49  \n",
       "2  26.08  23.65   28.47    24.24    30.71    30.92    26.26  \n",
       "3  26.36  23.63   28.49    23.62    30.95    30.66    26.40  \n",
       "4  27.52  23.82   28.30    22.25    30.00    31.33    26.57  "
      ]
     },
     "execution_count": 3,
     "metadata": {},
     "output_type": "execute_result"
    }
   ],
   "source": [
    "df.head()"
   ]
  },
  {
   "cell_type": "code",
   "execution_count": 4,
   "id": "99354dea",
   "metadata": {},
   "outputs": [
    {
     "name": "stdout",
     "output_type": "stream",
     "text": [
      "<class 'pandas.core.frame.DataFrame'>\n",
      "RangeIndex: 117 entries, 0 to 116\n",
      "Data columns (total 18 columns):\n",
      " #   Column   Non-Null Count  Dtype  \n",
      "---  ------   --------------  -----  \n",
      " 0   YEAR     117 non-null    int64  \n",
      " 1   JAN      117 non-null    float64\n",
      " 2   FEB      117 non-null    float64\n",
      " 3   MAR      117 non-null    float64\n",
      " 4   APR      117 non-null    float64\n",
      " 5   MAY      117 non-null    float64\n",
      " 6   JUN      117 non-null    float64\n",
      " 7   JUL      117 non-null    float64\n",
      " 8   AUG      117 non-null    float64\n",
      " 9   SEP      117 non-null    float64\n",
      " 10  OCT      117 non-null    float64\n",
      " 11  NOV      117 non-null    float64\n",
      " 12  DEC      117 non-null    float64\n",
      " 13  ANNUAL   117 non-null    float64\n",
      " 14  JAN-FEB  117 non-null    float64\n",
      " 15  MAR-MAY  117 non-null    float64\n",
      " 16  JUN-SEP  117 non-null    float64\n",
      " 17  OCT-DEC  117 non-null    float64\n",
      "dtypes: float64(17), int64(1)\n",
      "memory usage: 16.6 KB\n"
     ]
    }
   ],
   "source": [
    "df.info()"
   ]
  },
  {
   "cell_type": "code",
   "execution_count": 5,
   "id": "e625c4c4",
   "metadata": {},
   "outputs": [
    {
     "data": {
      "text/plain": [
       "YEAR       0\n",
       "JAN        0\n",
       "FEB        0\n",
       "MAR        0\n",
       "APR        0\n",
       "MAY        0\n",
       "JUN        0\n",
       "JUL        0\n",
       "AUG        0\n",
       "SEP        0\n",
       "OCT        0\n",
       "NOV        0\n",
       "DEC        0\n",
       "ANNUAL     0\n",
       "JAN-FEB    0\n",
       "MAR-MAY    0\n",
       "JUN-SEP    0\n",
       "OCT-DEC    0\n",
       "dtype: int64"
      ]
     },
     "execution_count": 5,
     "metadata": {},
     "output_type": "execute_result"
    }
   ],
   "source": [
    "df.isnull().sum()"
   ]
  },
  {
   "cell_type": "code",
   "execution_count": 6,
   "id": "2a363b7d",
   "metadata": {},
   "outputs": [
    {
     "data": {
      "text/html": [
       "<div>\n",
       "<style scoped>\n",
       "    .dataframe tbody tr th:only-of-type {\n",
       "        vertical-align: middle;\n",
       "    }\n",
       "\n",
       "    .dataframe tbody tr th {\n",
       "        vertical-align: top;\n",
       "    }\n",
       "\n",
       "    .dataframe thead th {\n",
       "        text-align: right;\n",
       "    }\n",
       "</style>\n",
       "<table border=\"1\" class=\"dataframe\">\n",
       "  <thead>\n",
       "    <tr style=\"text-align: right;\">\n",
       "      <th></th>\n",
       "      <th>YEAR</th>\n",
       "      <th>JAN</th>\n",
       "      <th>FEB</th>\n",
       "      <th>MAR</th>\n",
       "      <th>APR</th>\n",
       "      <th>MAY</th>\n",
       "      <th>JUN</th>\n",
       "      <th>JUL</th>\n",
       "      <th>AUG</th>\n",
       "      <th>SEP</th>\n",
       "      <th>OCT</th>\n",
       "      <th>NOV</th>\n",
       "      <th>DEC</th>\n",
       "      <th>ANNUAL</th>\n",
       "      <th>JAN-FEB</th>\n",
       "      <th>MAR-MAY</th>\n",
       "      <th>JUN-SEP</th>\n",
       "      <th>OCT-DEC</th>\n",
       "    </tr>\n",
       "  </thead>\n",
       "  <tbody>\n",
       "    <tr>\n",
       "      <th>count</th>\n",
       "      <td>117.000000</td>\n",
       "      <td>117.000000</td>\n",
       "      <td>117.000000</td>\n",
       "      <td>117.000000</td>\n",
       "      <td>117.000000</td>\n",
       "      <td>117.000000</td>\n",
       "      <td>117.000000</td>\n",
       "      <td>117.000000</td>\n",
       "      <td>117.000000</td>\n",
       "      <td>117.000000</td>\n",
       "      <td>117.000000</td>\n",
       "      <td>117.000000</td>\n",
       "      <td>117.000000</td>\n",
       "      <td>117.000000</td>\n",
       "      <td>117.000000</td>\n",
       "      <td>117.000000</td>\n",
       "      <td>117.000000</td>\n",
       "      <td>117.000000</td>\n",
       "    </tr>\n",
       "    <tr>\n",
       "      <th>mean</th>\n",
       "      <td>1959.000000</td>\n",
       "      <td>23.687436</td>\n",
       "      <td>25.597863</td>\n",
       "      <td>29.085983</td>\n",
       "      <td>31.975812</td>\n",
       "      <td>33.565299</td>\n",
       "      <td>32.774274</td>\n",
       "      <td>31.035897</td>\n",
       "      <td>30.507692</td>\n",
       "      <td>30.486752</td>\n",
       "      <td>29.766581</td>\n",
       "      <td>27.285470</td>\n",
       "      <td>24.608291</td>\n",
       "      <td>29.181368</td>\n",
       "      <td>24.629573</td>\n",
       "      <td>31.517607</td>\n",
       "      <td>31.198205</td>\n",
       "      <td>27.208120</td>\n",
       "    </tr>\n",
       "    <tr>\n",
       "      <th>std</th>\n",
       "      <td>33.919021</td>\n",
       "      <td>0.834588</td>\n",
       "      <td>1.150757</td>\n",
       "      <td>1.068451</td>\n",
       "      <td>0.889478</td>\n",
       "      <td>0.724905</td>\n",
       "      <td>0.633132</td>\n",
       "      <td>0.468818</td>\n",
       "      <td>0.476312</td>\n",
       "      <td>0.544295</td>\n",
       "      <td>0.705492</td>\n",
       "      <td>0.714518</td>\n",
       "      <td>0.782644</td>\n",
       "      <td>0.555555</td>\n",
       "      <td>0.911239</td>\n",
       "      <td>0.740585</td>\n",
       "      <td>0.420508</td>\n",
       "      <td>0.672003</td>\n",
       "    </tr>\n",
       "    <tr>\n",
       "      <th>min</th>\n",
       "      <td>1901.000000</td>\n",
       "      <td>22.000000</td>\n",
       "      <td>22.830000</td>\n",
       "      <td>26.680000</td>\n",
       "      <td>30.010000</td>\n",
       "      <td>31.930000</td>\n",
       "      <td>31.100000</td>\n",
       "      <td>29.760000</td>\n",
       "      <td>29.310000</td>\n",
       "      <td>29.070000</td>\n",
       "      <td>27.900000</td>\n",
       "      <td>25.700000</td>\n",
       "      <td>23.020000</td>\n",
       "      <td>28.110000</td>\n",
       "      <td>22.250000</td>\n",
       "      <td>29.920000</td>\n",
       "      <td>30.240000</td>\n",
       "      <td>25.740000</td>\n",
       "    </tr>\n",
       "    <tr>\n",
       "      <th>25%</th>\n",
       "      <td>1930.000000</td>\n",
       "      <td>23.100000</td>\n",
       "      <td>24.780000</td>\n",
       "      <td>28.370000</td>\n",
       "      <td>31.460000</td>\n",
       "      <td>33.110000</td>\n",
       "      <td>32.340000</td>\n",
       "      <td>30.740000</td>\n",
       "      <td>30.180000</td>\n",
       "      <td>30.120000</td>\n",
       "      <td>29.380000</td>\n",
       "      <td>26.790000</td>\n",
       "      <td>24.040000</td>\n",
       "      <td>28.760000</td>\n",
       "      <td>24.110000</td>\n",
       "      <td>31.040000</td>\n",
       "      <td>30.920000</td>\n",
       "      <td>26.700000</td>\n",
       "    </tr>\n",
       "    <tr>\n",
       "      <th>50%</th>\n",
       "      <td>1959.000000</td>\n",
       "      <td>23.680000</td>\n",
       "      <td>25.480000</td>\n",
       "      <td>29.040000</td>\n",
       "      <td>31.950000</td>\n",
       "      <td>33.510000</td>\n",
       "      <td>32.730000</td>\n",
       "      <td>31.000000</td>\n",
       "      <td>30.540000</td>\n",
       "      <td>30.520000</td>\n",
       "      <td>29.780000</td>\n",
       "      <td>27.300000</td>\n",
       "      <td>24.660000</td>\n",
       "      <td>29.090000</td>\n",
       "      <td>24.530000</td>\n",
       "      <td>31.470000</td>\n",
       "      <td>31.190000</td>\n",
       "      <td>27.210000</td>\n",
       "    </tr>\n",
       "    <tr>\n",
       "      <th>75%</th>\n",
       "      <td>1988.000000</td>\n",
       "      <td>24.180000</td>\n",
       "      <td>26.310000</td>\n",
       "      <td>29.610000</td>\n",
       "      <td>32.420000</td>\n",
       "      <td>34.030000</td>\n",
       "      <td>33.180000</td>\n",
       "      <td>31.330000</td>\n",
       "      <td>30.760000</td>\n",
       "      <td>30.810000</td>\n",
       "      <td>30.170000</td>\n",
       "      <td>27.720000</td>\n",
       "      <td>25.110000</td>\n",
       "      <td>29.470000</td>\n",
       "      <td>25.150000</td>\n",
       "      <td>31.890000</td>\n",
       "      <td>31.400000</td>\n",
       "      <td>27.610000</td>\n",
       "    </tr>\n",
       "    <tr>\n",
       "      <th>max</th>\n",
       "      <td>2017.000000</td>\n",
       "      <td>26.940000</td>\n",
       "      <td>29.720000</td>\n",
       "      <td>32.620000</td>\n",
       "      <td>35.380000</td>\n",
       "      <td>35.840000</td>\n",
       "      <td>34.480000</td>\n",
       "      <td>32.760000</td>\n",
       "      <td>31.840000</td>\n",
       "      <td>32.220000</td>\n",
       "      <td>32.290000</td>\n",
       "      <td>30.110000</td>\n",
       "      <td>28.010000</td>\n",
       "      <td>31.630000</td>\n",
       "      <td>28.330000</td>\n",
       "      <td>34.570000</td>\n",
       "      <td>32.410000</td>\n",
       "      <td>30.030000</td>\n",
       "    </tr>\n",
       "  </tbody>\n",
       "</table>\n",
       "</div>"
      ],
      "text/plain": [
       "              YEAR         JAN         FEB         MAR         APR  \\\n",
       "count   117.000000  117.000000  117.000000  117.000000  117.000000   \n",
       "mean   1959.000000   23.687436   25.597863   29.085983   31.975812   \n",
       "std      33.919021    0.834588    1.150757    1.068451    0.889478   \n",
       "min    1901.000000   22.000000   22.830000   26.680000   30.010000   \n",
       "25%    1930.000000   23.100000   24.780000   28.370000   31.460000   \n",
       "50%    1959.000000   23.680000   25.480000   29.040000   31.950000   \n",
       "75%    1988.000000   24.180000   26.310000   29.610000   32.420000   \n",
       "max    2017.000000   26.940000   29.720000   32.620000   35.380000   \n",
       "\n",
       "              MAY         JUN         JUL         AUG         SEP         OCT  \\\n",
       "count  117.000000  117.000000  117.000000  117.000000  117.000000  117.000000   \n",
       "mean    33.565299   32.774274   31.035897   30.507692   30.486752   29.766581   \n",
       "std      0.724905    0.633132    0.468818    0.476312    0.544295    0.705492   \n",
       "min     31.930000   31.100000   29.760000   29.310000   29.070000   27.900000   \n",
       "25%     33.110000   32.340000   30.740000   30.180000   30.120000   29.380000   \n",
       "50%     33.510000   32.730000   31.000000   30.540000   30.520000   29.780000   \n",
       "75%     34.030000   33.180000   31.330000   30.760000   30.810000   30.170000   \n",
       "max     35.840000   34.480000   32.760000   31.840000   32.220000   32.290000   \n",
       "\n",
       "              NOV         DEC      ANNUAL     JAN-FEB     MAR-MAY     JUN-SEP  \\\n",
       "count  117.000000  117.000000  117.000000  117.000000  117.000000  117.000000   \n",
       "mean    27.285470   24.608291   29.181368   24.629573   31.517607   31.198205   \n",
       "std      0.714518    0.782644    0.555555    0.911239    0.740585    0.420508   \n",
       "min     25.700000   23.020000   28.110000   22.250000   29.920000   30.240000   \n",
       "25%     26.790000   24.040000   28.760000   24.110000   31.040000   30.920000   \n",
       "50%     27.300000   24.660000   29.090000   24.530000   31.470000   31.190000   \n",
       "75%     27.720000   25.110000   29.470000   25.150000   31.890000   31.400000   \n",
       "max     30.110000   28.010000   31.630000   28.330000   34.570000   32.410000   \n",
       "\n",
       "          OCT-DEC  \n",
       "count  117.000000  \n",
       "mean    27.208120  \n",
       "std      0.672003  \n",
       "min     25.740000  \n",
       "25%     26.700000  \n",
       "50%     27.210000  \n",
       "75%     27.610000  \n",
       "max     30.030000  "
      ]
     },
     "execution_count": 6,
     "metadata": {},
     "output_type": "execute_result"
    }
   ],
   "source": [
    "df.describe()"
   ]
  },
  {
   "cell_type": "code",
   "execution_count": 41,
   "id": "509f3791",
   "metadata": {},
   "outputs": [],
   "source": [
    "X_df = df.iloc[:,:13]"
   ]
  },
  {
   "cell_type": "code",
   "execution_count": 43,
   "id": "83129a56",
   "metadata": {},
   "outputs": [
    {
     "data": {
      "text/plain": [
       "Index(['YEAR', 'JAN', 'FEB', 'MAR', 'APR', 'MAY', 'JUN', 'JUL', 'AUG', 'SEP',\n",
       "       'OCT', 'NOV', 'DEC'],\n",
       "      dtype='object')"
      ]
     },
     "execution_count": 43,
     "metadata": {},
     "output_type": "execute_result"
    }
   ],
   "source": [
    "X_df.columns"
   ]
  },
  {
   "cell_type": "code",
   "execution_count": 44,
   "id": "d45a0698",
   "metadata": {},
   "outputs": [
    {
     "data": {
      "text/plain": [
       "(117, 13)"
      ]
     },
     "execution_count": 44,
     "metadata": {},
     "output_type": "execute_result"
    }
   ],
   "source": [
    "X_df.shape"
   ]
  },
  {
   "cell_type": "code",
   "execution_count": 33,
   "id": "5969caa6",
   "metadata": {},
   "outputs": [
    {
     "data": {
      "text/plain": [
       "<AxesSubplot:xlabel='YEAR', ylabel='ANNUAL'>"
      ]
     },
     "execution_count": 33,
     "metadata": {},
     "output_type": "execute_result"
    },
    {
     "data": {
      "image/png": "[encoded data removed]",
      "text/plain": [
       "<Figure size 432x288 with 1 Axes>"
      ]
     },
     "metadata": {
      "needs_background": "light"
     },
     "output_type": "display_data"
    }
   ],
   "source": [
    "sns.barplot(x='YEAR',y='ANNUAL',data=df)"
   ]
  },
  {
   "cell_type": "code",
   "execution_count": 34,
   "id": "df074b8a",
   "metadata": {},
   "outputs": [
    {
     "data": {
      "image/png": "[encoded data removed]",
      "text/plain": [
       "<Figure size 432x288 with 2 Axes>"
      ]
     },
     "metadata": {
      "needs_background": "light"
     },
     "output_type": "display_data"
    }
   ],
   "source": [
    "sns.heatmap(df.corr(), cmap=\"YlGnBu\", annot=True)\n",
    "plt.show()"
   ]
  },
  {
   "cell_type": "code",
   "execution_count": 111,
   "id": "efcc89e9",
   "metadata": {},
   "outputs": [],
   "source": [
    "X= np.array(df['YEAR'],dtype='float32').reshape(-1,1)\n",
    "Y = np.array(df['ANNUAL'],dtype='float32').reshape(-1,1)\n",
    "\n"
   ]
  },
  {
   "cell_type": "code",
   "execution_count": 110,
   "id": "effd6264",
   "metadata": {},
   "outputs": [],
   "source": [
    "from sklearn.model_selection import train_test_split"
   ]
  },
  {
   "cell_type": "code",
   "execution_count": 93,
   "id": "92af2c8c",
   "metadata": {},
   "outputs": [],
   "source": [
    "X_train,X_test , Y_train , Y_test = train_test_split(X,Y,test_size=0.25,random_state=42)"
   ]
  },
  {
   "cell_type": "code",
   "execution_count": 94,
   "id": "9b2c10f4",
   "metadata": {},
   "outputs": [],
   "source": [
    "from sklearn.linear_model import LinearRegression "
   ]
  },
  {
   "cell_type": "code",
   "execution_count": 95,
   "id": "14465629",
   "metadata": {},
   "outputs": [],
   "source": [
    "model = LinearRegression()"
   ]
  },
  {
   "cell_type": "code",
   "execution_count": 96,
   "id": "71f71f16",
   "metadata": {},
   "outputs": [
    {
     "data": {
      "text/plain": [
       "LinearRegression(copy_X=True, fit_intercept=True, n_jobs=None, normalize=False)"
      ]
     },
     "execution_count": 96,
     "metadata": {},
     "output_type": "execute_result"
    }
   ],
   "source": [
    "model.fit(X_train,Y_train)"
   ]
  },
  {
   "cell_type": "code",
   "execution_count": 97,
   "id": "b1f2e2f7",
   "metadata": {},
   "outputs": [],
   "source": [
    "pred = model.predict(X_test)"
   ]
  },
  {
   "cell_type": "code",
   "execution_count": null,
   "id": "9a70feba",
   "metadata": {},
   "outputs": [],
   "source": []
  },
  {
   "cell_type": "code",
   "execution_count": 98,
   "id": "8260e8a4",
   "metadata": {},
   "outputs": [
    {
     "data": {
      "text/plain": [
       "array([[28.97],\n",
       "       [28.3 ],\n",
       "       [28.92],\n",
       "       [28.8 ],\n",
       "       [28.62],\n",
       "       [29.33],\n",
       "       [29.44],\n",
       "       [30.18],\n",
       "       [28.7 ],\n",
       "       [28.95],\n",
       "       [29.46],\n",
       "       [28.59],\n",
       "       [29.58],\n",
       "       [29.6 ],\n",
       "       [28.66],\n",
       "       [28.96],\n",
       "       [29.04],\n",
       "       [29.81],\n",
       "       [29.41],\n",
       "       [30.23],\n",
       "       [29.61],\n",
       "       [29.14],\n",
       "       [31.63],\n",
       "       [28.67],\n",
       "       [28.82],\n",
       "       [29.47],\n",
       "       [29.09],\n",
       "       [28.67],\n",
       "       [28.64],\n",
       "       [28.74]], dtype=float32)"
      ]
     },
     "execution_count": 98,
     "metadata": {},
     "output_type": "execute_result"
    }
   ],
   "source": [
    "Y_test"
   ]
  },
  {
   "cell_type": "code",
   "execution_count": 99,
   "id": "3a2d09bb",
   "metadata": {},
   "outputs": [
    {
     "data": {
      "text/plain": [
       "array([4.3529854], dtype=float32)"
      ]
     },
     "execution_count": 99,
     "metadata": {},
     "output_type": "execute_result"
    }
   ],
   "source": [
    "model.intercept_"
   ]
  },
  {
   "cell_type": "code",
   "execution_count": 100,
   "id": "45b9d453",
   "metadata": {},
   "outputs": [
    {
     "data": {
      "text/plain": [
       "array([[0.01265911]], dtype=float32)"
      ]
     },
     "execution_count": 100,
     "metadata": {},
     "output_type": "execute_result"
    }
   ],
   "source": [
    "model.coef_"
   ]
  },
  {
   "cell_type": "code",
   "execution_count": 101,
   "id": "bd1a5572",
   "metadata": {},
   "outputs": [
    {
     "data": {
      "text/plain": [
       "0.5820842122553018"
      ]
     },
     "execution_count": 101,
     "metadata": {},
     "output_type": "execute_result"
    }
   ],
   "source": [
    "model.score(X_test,Y_test)"
   ]
  },
  {
   "cell_type": "code",
   "execution_count": 102,
   "id": "c653f04d",
   "metadata": {},
   "outputs": [],
   "source": [
    "from sklearn.metrics import mean_squared_error,mean_absolute_error,accuracy_score"
   ]
  },
  {
   "cell_type": "code",
   "execution_count": 103,
   "id": "3f3af918",
   "metadata": {},
   "outputs": [],
   "source": [
    "mse =mean_squared_error(Y_test,pred)"
   ]
  },
  {
   "cell_type": "code",
   "execution_count": 104,
   "id": "ffe1cf76",
   "metadata": {},
   "outputs": [
    {
     "data": {
      "text/plain": [
       "0.17794947"
      ]
     },
     "execution_count": 104,
     "metadata": {},
     "output_type": "execute_result"
    }
   ],
   "source": [
    "mse"
   ]
  },
  {
   "cell_type": "code",
   "execution_count": 105,
   "id": "d7569f7c",
   "metadata": {},
   "outputs": [],
   "source": [
    "mae= mean_absolute_error(Y_test,pred)"
   ]
  },
  {
   "cell_type": "code",
   "execution_count": 106,
   "id": "6a1ce2c0",
   "metadata": {},
   "outputs": [
    {
     "data": {
      "text/plain": [
       "0.2667165"
      ]
     },
     "execution_count": 106,
     "metadata": {},
     "output_type": "execute_result"
    }
   ],
   "source": [
    "mae"
   ]
  },
  {
   "cell_type": "code",
   "execution_count": 107,
   "id": "f99e4dfb",
   "metadata": {},
   "outputs": [
    {
     "data": {
      "text/plain": [
       "[<matplotlib.lines.Line2D at 0x1895775c888>]"
      ]
     },
     "execution_count": 107,
     "metadata": {},
     "output_type": "execute_result"
    },
    {
     "data": {
      "image/png": "[encoded data removed]",
      "text/plain": [
       "<Figure size 432x288 with 1 Axes>"
      ]
     },
     "metadata": {
      "needs_background": "light"
     },
     "output_type": "display_data"
    }
   ],
   "source": [
    "plt.scatter (X_test ,Y_test)\n",
    "plt.plot(X_test,(model.coef_)*X_test + model.intercept_,color='red')"
   ]
  },
  {
   "cell_type": "code",
   "execution_count": 108,
   "id": "c2c94c2f",
   "metadata": {},
   "outputs": [],
   "source": [
    "import torch "
   ]
  },
  {
   "cell_type": "code",
   "execution_count": 112,
   "id": "fc5189ec",
   "metadata": {},
   "outputs": [],
   "source": [
    "X_t= torch.from_numpy(X)\n",
    "Y_t = torch.from_numpy(Y)"
   ]
  },
  {
   "cell_type": "code",
   "execution_count": 113,
   "id": "a98bcd8e",
   "metadata": {},
   "outputs": [
    {
     "name": "stdout",
     "output_type": "stream",
     "text": [
      "torch.Size([117, 1]) torch.Size([117, 1])\n"
     ]
    }
   ],
   "source": [
    "print(X_t.shape,Y_t.shape)"
   ]
  },
  {
   "cell_type": "code",
   "execution_count": 114,
   "id": "2ac72a61",
   "metadata": {},
   "outputs": [],
   "source": [
    "from torch.utils.data import TensorDataset, DataLoader"
   ]
  },
  {
   "cell_type": "code",
   "execution_count": 115,
   "id": "9d304ca2",
   "metadata": {},
   "outputs": [
    {
     "data": {
      "text/plain": [
       "(tensor([[1901.],\n",
       "         [1902.],\n",
       "         [1903.],\n",
       "         [1904.],\n",
       "         [1905.],\n",
       "         [1906.],\n",
       "         [1907.],\n",
       "         [1908.],\n",
       "         [1909.],\n",
       "         [1910.],\n",
       "         [1911.],\n",
       "         [1912.],\n",
       "         [1913.],\n",
       "         [1914.],\n",
       "         [1915.],\n",
       "         [1916.],\n",
       "         [1917.],\n",
       "         [1918.],\n",
       "         [1919.],\n",
       "         [1920.],\n",
       "         [1921.],\n",
       "         [1922.],\n",
       "         [1923.],\n",
       "         [1924.],\n",
       "         [1925.],\n",
       "         [1926.],\n",
       "         [1927.],\n",
       "         [1928.],\n",
       "         [1929.],\n",
       "         [1930.],\n",
       "         [1931.],\n",
       "         [1932.],\n",
       "         [1933.],\n",
       "         [1934.],\n",
       "         [1935.],\n",
       "         [1936.],\n",
       "         [1937.],\n",
       "         [1938.],\n",
       "         [1939.],\n",
       "         [1940.],\n",
       "         [1941.],\n",
       "         [1942.],\n",
       "         [1943.],\n",
       "         [1944.],\n",
       "         [1945.],\n",
       "         [1946.],\n",
       "         [1947.],\n",
       "         [1948.],\n",
       "         [1949.],\n",
       "         [1950.],\n",
       "         [1951.],\n",
       "         [1952.],\n",
       "         [1953.],\n",
       "         [1954.],\n",
       "         [1955.],\n",
       "         [1956.],\n",
       "         [1957.],\n",
       "         [1958.],\n",
       "         [1959.],\n",
       "         [1960.],\n",
       "         [1961.],\n",
       "         [1962.],\n",
       "         [1963.],\n",
       "         [1964.],\n",
       "         [1965.],\n",
       "         [1966.],\n",
       "         [1967.],\n",
       "         [1968.],\n",
       "         [1969.],\n",
       "         [1970.],\n",
       "         [1971.],\n",
       "         [1972.],\n",
       "         [1973.],\n",
       "         [1974.],\n",
       "         [1975.]]),\n",
       " tensor([[28.9600],\n",
       "         [29.2200],\n",
       "         [28.4700],\n",
       "         [28.4900],\n",
       "         [28.3000],\n",
       "         [28.7300],\n",
       "         [28.6500],\n",
       "         [28.8300],\n",
       "         [28.3800],\n",
       "         [28.5300],\n",
       "         [28.6200],\n",
       "         [28.9500],\n",
       "         [28.6700],\n",
       "         [28.6600],\n",
       "         [28.9400],\n",
       "         [28.8200],\n",
       "         [28.1100],\n",
       "         [28.6600],\n",
       "         [28.6600],\n",
       "         [28.7600],\n",
       "         [28.8600],\n",
       "         [28.8000],\n",
       "         [28.7400],\n",
       "         [28.8000],\n",
       "         [28.6700],\n",
       "         [28.7000],\n",
       "         [28.5900],\n",
       "         [28.9800],\n",
       "         [28.7600],\n",
       "         [28.6500],\n",
       "         [29.1500],\n",
       "         [29.0900],\n",
       "         [28.4900],\n",
       "         [29.0300],\n",
       "         [28.7600],\n",
       "         [28.7100],\n",
       "         [28.7000],\n",
       "         [28.7000],\n",
       "         [28.8500],\n",
       "         [28.8800],\n",
       "         [29.4600],\n",
       "         [28.9800],\n",
       "         [28.8000],\n",
       "         [28.8900],\n",
       "         [28.9700],\n",
       "         [29.3700],\n",
       "         [28.8400],\n",
       "         [28.7300],\n",
       "         [28.8900],\n",
       "         [28.4700],\n",
       "         [29.0900],\n",
       "         [29.1600],\n",
       "         [29.4300],\n",
       "         [28.9200],\n",
       "         [28.7600],\n",
       "         [28.6300],\n",
       "         [28.6400],\n",
       "         [29.3400],\n",
       "         [29.0200],\n",
       "         [29.3100],\n",
       "         [28.7200],\n",
       "         [28.8900],\n",
       "         [29.0400],\n",
       "         [29.0900],\n",
       "         [29.1600],\n",
       "         [29.4100],\n",
       "         [29.1400],\n",
       "         [29.0700],\n",
       "         [29.6100],\n",
       "         [29.4700],\n",
       "         [29.1500],\n",
       "         [29.3100],\n",
       "         [29.4400],\n",
       "         [29.2600],\n",
       "         [28.8900]]))"
      ]
     },
     "execution_count": 115,
     "metadata": {},
     "output_type": "execute_result"
    }
   ],
   "source": [
    "train_ds = TensorDataset(X_t,Y_t)\n",
    "train_ds[0:75]"
   ]
  },
  {
   "cell_type": "code",
   "execution_count": 117,
   "id": "adb95768",
   "metadata": {},
   "outputs": [],
   "source": [
    "batch_size= 2\n",
    "train_dl = DataLoader(train_ds,batch_size, shuffle=True)"
   ]
  },
  {
   "cell_type": "code",
   "execution_count": 118,
   "id": "a1b7b06e",
   "metadata": {},
   "outputs": [],
   "source": [
    "import torch.nn as nn "
   ]
  },
  {
   "cell_type": "code",
   "execution_count": 119,
   "id": "eb2128b2",
   "metadata": {},
   "outputs": [
    {
     "name": "stdout",
     "output_type": "stream",
     "text": [
      "Parameter containing:\n",
      "tensor([-0.8679], requires_grad=True) Parameter containing:\n",
      "tensor([[0.7720]], requires_grad=True)\n"
     ]
    }
   ],
   "source": [
    "model = nn.Linear(1,1)\n",
    "print(model.bias,model.weight)"
   ]
  },
  {
   "cell_type": "code",
   "execution_count": 120,
   "id": "95c3495f",
   "metadata": {},
   "outputs": [
    {
     "data": {
      "text/plain": [
       "tensor([[1466.7781],\n",
       "        [1467.5502],\n",
       "        [1468.3221],\n",
       "        [1469.0942],\n",
       "        [1469.8662],\n",
       "        [1470.6383],\n",
       "        [1471.4103],\n",
       "        [1472.1824],\n",
       "        [1472.9545],\n",
       "        [1473.7264],\n",
       "        [1474.4985],\n",
       "        [1475.2705],\n",
       "        [1476.0426],\n",
       "        [1476.8146],\n",
       "        [1477.5867],\n",
       "        [1478.3586],\n",
       "        [1479.1307],\n",
       "        [1479.9027],\n",
       "        [1480.6748],\n",
       "        [1481.4468],\n",
       "        [1482.2189],\n",
       "        [1482.9910],\n",
       "        [1483.7629],\n",
       "        [1484.5350],\n",
       "        [1485.3070],\n",
       "        [1486.0791],\n",
       "        [1486.8511],\n",
       "        [1487.6232],\n",
       "        [1488.3951],\n",
       "        [1489.1672],\n",
       "        [1489.9392],\n",
       "        [1490.7113],\n",
       "        [1491.4834],\n",
       "        [1492.2554],\n",
       "        [1493.0275],\n",
       "        [1493.7994],\n",
       "        [1494.5715],\n",
       "        [1495.3435],\n",
       "        [1496.1156],\n",
       "        [1496.8876],\n",
       "        [1497.6597],\n",
       "        [1498.4316],\n",
       "        [1499.2037],\n",
       "        [1499.9758],\n",
       "        [1500.7478],\n",
       "        [1501.5199],\n",
       "        [1502.2919],\n",
       "        [1503.0640],\n",
       "        [1503.8359],\n",
       "        [1504.6080],\n",
       "        [1505.3800],\n",
       "        [1506.1521],\n",
       "        [1506.9241],\n",
       "        [1507.6962],\n",
       "        [1508.4683],\n",
       "        [1509.2402],\n",
       "        [1510.0123],\n",
       "        [1510.7843],\n",
       "        [1511.5564],\n",
       "        [1512.3284],\n",
       "        [1513.1005],\n",
       "        [1513.8724],\n",
       "        [1514.6445],\n",
       "        [1515.4165],\n",
       "        [1516.1886],\n",
       "        [1516.9606],\n",
       "        [1517.7327],\n",
       "        [1518.5048],\n",
       "        [1519.2767],\n",
       "        [1520.0488],\n",
       "        [1520.8208],\n",
       "        [1521.5929],\n",
       "        [1522.3649],\n",
       "        [1523.1370],\n",
       "        [1523.9089],\n",
       "        [1524.6810],\n",
       "        [1525.4530],\n",
       "        [1526.2251],\n",
       "        [1526.9972],\n",
       "        [1527.7692],\n",
       "        [1528.5413],\n",
       "        [1529.3132],\n",
       "        [1530.0853],\n",
       "        [1530.8573],\n",
       "        [1531.6294],\n",
       "        [1532.4014],\n",
       "        [1533.1735],\n",
       "        [1533.9454],\n",
       "        [1534.7175],\n",
       "        [1535.4896],\n",
       "        [1536.2616],\n",
       "        [1537.0337],\n",
       "        [1537.8057],\n",
       "        [1538.5778],\n",
       "        [1539.3497],\n",
       "        [1540.1218],\n",
       "        [1540.8938],\n",
       "        [1541.6659],\n",
       "        [1542.4379],\n",
       "        [1543.2100],\n",
       "        [1543.9819],\n",
       "        [1544.7540],\n",
       "        [1545.5261],\n",
       "        [1546.2981],\n",
       "        [1547.0702],\n",
       "        [1547.8422],\n",
       "        [1548.6143],\n",
       "        [1549.3862],\n",
       "        [1550.1583],\n",
       "        [1550.9303],\n",
       "        [1551.7024],\n",
       "        [1552.4744],\n",
       "        [1553.2465],\n",
       "        [1554.0186],\n",
       "        [1554.7905],\n",
       "        [1555.5626],\n",
       "        [1556.3346]], grad_fn=<AddmmBackward>)"
      ]
     },
     "execution_count": 120,
     "metadata": {},
     "output_type": "execute_result"
    }
   ],
   "source": [
    "pred = model(X_t)\n",
    "pred"
   ]
  },
  {
   "cell_type": "code",
   "execution_count": 121,
   "id": "d1baa302",
   "metadata": {},
   "outputs": [
    {
     "data": {
      "text/plain": [
       "tensor([[28.9600],\n",
       "        [29.2200],\n",
       "        [28.4700],\n",
       "        [28.4900],\n",
       "        [28.3000],\n",
       "        [28.7300],\n",
       "        [28.6500],\n",
       "        [28.8300],\n",
       "        [28.3800],\n",
       "        [28.5300],\n",
       "        [28.6200],\n",
       "        [28.9500],\n",
       "        [28.6700],\n",
       "        [28.6600],\n",
       "        [28.9400],\n",
       "        [28.8200],\n",
       "        [28.1100],\n",
       "        [28.6600],\n",
       "        [28.6600],\n",
       "        [28.7600],\n",
       "        [28.8600],\n",
       "        [28.8000],\n",
       "        [28.7400],\n",
       "        [28.8000],\n",
       "        [28.6700],\n",
       "        [28.7000],\n",
       "        [28.5900],\n",
       "        [28.9800],\n",
       "        [28.7600],\n",
       "        [28.6500],\n",
       "        [29.1500],\n",
       "        [29.0900],\n",
       "        [28.4900],\n",
       "        [29.0300],\n",
       "        [28.7600],\n",
       "        [28.7100],\n",
       "        [28.7000],\n",
       "        [28.7000],\n",
       "        [28.8500],\n",
       "        [28.8800],\n",
       "        [29.4600],\n",
       "        [28.9800],\n",
       "        [28.8000],\n",
       "        [28.8900],\n",
       "        [28.9700],\n",
       "        [29.3700],\n",
       "        [28.8400],\n",
       "        [28.7300],\n",
       "        [28.8900],\n",
       "        [28.4700],\n",
       "        [29.0900],\n",
       "        [29.1600],\n",
       "        [29.4300],\n",
       "        [28.9200],\n",
       "        [28.7600],\n",
       "        [28.6300],\n",
       "        [28.6400],\n",
       "        [29.3400],\n",
       "        [29.0200],\n",
       "        [29.3100],\n",
       "        [28.7200],\n",
       "        [28.8900],\n",
       "        [29.0400],\n",
       "        [29.0900],\n",
       "        [29.1600],\n",
       "        [29.4100],\n",
       "        [29.1400],\n",
       "        [29.0700],\n",
       "        [29.6100],\n",
       "        [29.4700],\n",
       "        [29.1500],\n",
       "        [29.3100],\n",
       "        [29.4400],\n",
       "        [29.2600],\n",
       "        [28.8900],\n",
       "        [29.2700],\n",
       "        [29.4100],\n",
       "        [29.2300],\n",
       "        [29.6300],\n",
       "        [29.5800],\n",
       "        [29.3200],\n",
       "        [29.1200],\n",
       "        [29.1100],\n",
       "        [29.2800],\n",
       "        [29.6100],\n",
       "        [29.3300],\n",
       "        [29.7200],\n",
       "        [29.5500],\n",
       "        [29.1800],\n",
       "        [29.1400],\n",
       "        [29.3200],\n",
       "        [29.2300],\n",
       "        [29.5500],\n",
       "        [29.4600],\n",
       "        [30.1800],\n",
       "        [29.5800],\n",
       "        [29.0500],\n",
       "        [29.7000],\n",
       "        [29.8100],\n",
       "        [29.7500],\n",
       "        [29.9900],\n",
       "        [30.2300],\n",
       "        [29.7500],\n",
       "        [29.7900],\n",
       "        [29.6000],\n",
       "        [30.0600],\n",
       "        [29.8400],\n",
       "        [29.6400],\n",
       "        [30.3000],\n",
       "        [30.1300],\n",
       "        [29.8200],\n",
       "        [29.8100],\n",
       "        [29.8100],\n",
       "        [29.7200],\n",
       "        [29.9000],\n",
       "        [31.6300],\n",
       "        [31.4200]])"
      ]
     },
     "execution_count": 121,
     "metadata": {},
     "output_type": "execute_result"
    }
   ],
   "source": [
    "Y_t"
   ]
  },
  {
   "cell_type": "code",
   "execution_count": 122,
   "id": "63bcd895",
   "metadata": {},
   "outputs": [],
   "source": [
    "import torch.nn.functional as F"
   ]
  },
  {
   "cell_type": "code",
   "execution_count": 123,
   "id": "3d9e1ef1",
   "metadata": {},
   "outputs": [],
   "source": [
    "loss_fn = F.mse_loss"
   ]
  },
  {
   "cell_type": "code",
   "execution_count": 124,
   "id": "f9fe3a2b",
   "metadata": {},
   "outputs": [
    {
     "data": {
      "text/plain": [
       "tensor(2198092.7500, grad_fn=<MseLossBackward>)"
      ]
     },
     "execution_count": 124,
     "metadata": {},
     "output_type": "execute_result"
    }
   ],
   "source": [
    "loss=loss_fn(model(X_t),Y_t)\n",
    "loss"
   ]
  },
  {
   "cell_type": "code",
   "execution_count": 125,
   "id": "62e22a3e",
   "metadata": {},
   "outputs": [],
   "source": [
    "opt = torch.optim.Adamax(model.parameters(),lr = 1e-5)"
   ]
  },
  {
   "cell_type": "code",
   "execution_count": 128,
   "id": "e8e4948c",
   "metadata": {},
   "outputs": [],
   "source": [
    "def fit(epochs, model,loss_fn,opt,train_dl):\n",
    "    for ep in range(epochs):\n",
    "        for x,y in train_dl:\n",
    "            preds = model(x)\n",
    "            loss = loss_fn(preds,y)\n",
    "            loss.backward()\n",
    "            opt.step()\n",
    "            opt.zero_grad()\n",
    "        if (ep+1)%100==0:\n",
    "            print('Epoch[{}/{}],Loss: {:.4f}'.format(ep+1,epochs,loss.item()))"
   ]
  },
  {
   "cell_type": "code",
   "execution_count": 130,
   "id": "10630773",
   "metadata": {},
   "outputs": [
    {
     "name": "stdout",
     "output_type": "stream",
     "text": [
      "Epoch[100/1000],Loss: 857635.0625\n",
      "Epoch[200/1000],Loss: 630263.5000\n",
      "Epoch[300/1000],Loss: 477266.5312\n",
      "Epoch[400/1000],Loss: 342431.3438\n",
      "Epoch[500/1000],Loss: 231442.5938\n",
      "Epoch[600/1000],Loss: 126599.9688\n",
      "Epoch[700/1000],Loss: 63696.2617\n",
      "Epoch[800/1000],Loss: 21270.7949\n",
      "Epoch[900/1000],Loss: 976.7611\n",
      "Epoch[1000/1000],Loss: 0.0174\n"
     ]
    }
   ],
   "source": []
  },
  {
   "cell_type": "code",
   "execution_count": 131,
   "id": "25bad84a",
   "metadata": {},
   "outputs": [
    {
     "data": {
      "text/plain": [
       "tensor([[28.2710],\n",
       "        [28.2867],\n",
       "        [28.3024],\n",
       "        [28.3182],\n",
       "        [28.3339],\n",
       "        [28.3496],\n",
       "        [28.3654],\n",
       "        [28.3811],\n",
       "        [28.3968],\n",
       "        [28.4126],\n",
       "        [28.4283],\n",
       "        [28.4440],\n",
       "        [28.4598],\n",
       "        [28.4755],\n",
       "        [28.4912],\n",
       "        [28.5070],\n",
       "        [28.5227],\n",
       "        [28.5384],\n",
       "        [28.5542],\n",
       "        [28.5699],\n",
       "        [28.5856],\n",
       "        [28.6014],\n",
       "        [28.6171],\n",
       "        [28.6328],\n",
       "        [28.6486],\n",
       "        [28.6643],\n",
       "        [28.6800],\n",
       "        [28.6958],\n",
       "        [28.7115],\n",
       "        [28.7272],\n",
       "        [28.7430],\n",
       "        [28.7587],\n",
       "        [28.7745],\n",
       "        [28.7902],\n",
       "        [28.8059],\n",
       "        [28.8217],\n",
       "        [28.8374],\n",
       "        [28.8531],\n",
       "        [28.8689],\n",
       "        [28.8846],\n",
       "        [28.9003],\n",
       "        [28.9161],\n",
       "        [28.9318],\n",
       "        [28.9475],\n",
       "        [28.9633],\n",
       "        [28.9790],\n",
       "        [28.9947],\n",
       "        [29.0105],\n",
       "        [29.0262],\n",
       "        [29.0419],\n",
       "        [29.0577],\n",
       "        [29.0734],\n",
       "        [29.0891],\n",
       "        [29.1049],\n",
       "        [29.1206],\n",
       "        [29.1363],\n",
       "        [29.1521],\n",
       "        [29.1678],\n",
       "        [29.1835],\n",
       "        [29.1993],\n",
       "        [29.2150],\n",
       "        [29.2307],\n",
       "        [29.2465],\n",
       "        [29.2622],\n",
       "        [29.2780],\n",
       "        [29.2937],\n",
       "        [29.3094],\n",
       "        [29.3252],\n",
       "        [29.3409],\n",
       "        [29.3566],\n",
       "        [29.3724],\n",
       "        [29.3881],\n",
       "        [29.4038],\n",
       "        [29.4196],\n",
       "        [29.4353],\n",
       "        [29.4510],\n",
       "        [29.4668],\n",
       "        [29.4825],\n",
       "        [29.4982],\n",
       "        [29.5140],\n",
       "        [29.5297],\n",
       "        [29.5454],\n",
       "        [29.5612],\n",
       "        [29.5769],\n",
       "        [29.5926],\n",
       "        [29.6084],\n",
       "        [29.6241],\n",
       "        [29.6398],\n",
       "        [29.6556],\n",
       "        [29.6713],\n",
       "        [29.6870],\n",
       "        [29.7028],\n",
       "        [29.7185],\n",
       "        [29.7342],\n",
       "        [29.7500],\n",
       "        [29.7657],\n",
       "        [29.7814],\n",
       "        [29.7972],\n",
       "        [29.8129],\n",
       "        [29.8286],\n",
       "        [29.8444],\n",
       "        [29.8601],\n",
       "        [29.8759],\n",
       "        [29.8916],\n",
       "        [29.9073],\n",
       "        [29.9231],\n",
       "        [29.9388],\n",
       "        [29.9545],\n",
       "        [29.9703],\n",
       "        [29.9860],\n",
       "        [30.0017],\n",
       "        [30.0175],\n",
       "        [30.0332],\n",
       "        [30.0489],\n",
       "        [30.0647],\n",
       "        [30.0804],\n",
       "        [30.0961]], grad_fn=<AddmmBackward>)"
      ]
     },
     "execution_count": 131,
     "metadata": {},
     "output_type": "execute_result"
    }
   ],
   "source": [
    "preds = model(X_t)\n",
    "preds"
   ]
  },
  {
   "cell_type": "code",
   "execution_count": 132,
   "id": "d68c11ed",
   "metadata": {},
   "outputs": [
    {
     "data": {
      "text/plain": [
       "tensor([[28.9600],\n",
       "        [29.2200],\n",
       "        [28.4700],\n",
       "        [28.4900],\n",
       "        [28.3000],\n",
       "        [28.7300],\n",
       "        [28.6500],\n",
       "        [28.8300],\n",
       "        [28.3800],\n",
       "        [28.5300],\n",
       "        [28.6200],\n",
       "        [28.9500],\n",
       "        [28.6700],\n",
       "        [28.6600],\n",
       "        [28.9400],\n",
       "        [28.8200],\n",
       "        [28.1100],\n",
       "        [28.6600],\n",
       "        [28.6600],\n",
       "        [28.7600],\n",
       "        [28.8600],\n",
       "        [28.8000],\n",
       "        [28.7400],\n",
       "        [28.8000],\n",
       "        [28.6700],\n",
       "        [28.7000],\n",
       "        [28.5900],\n",
       "        [28.9800],\n",
       "        [28.7600],\n",
       "        [28.6500],\n",
       "        [29.1500],\n",
       "        [29.0900],\n",
       "        [28.4900],\n",
       "        [29.0300],\n",
       "        [28.7600],\n",
       "        [28.7100],\n",
       "        [28.7000],\n",
       "        [28.7000],\n",
       "        [28.8500],\n",
       "        [28.8800],\n",
       "        [29.4600],\n",
       "        [28.9800],\n",
       "        [28.8000],\n",
       "        [28.8900],\n",
       "        [28.9700],\n",
       "        [29.3700],\n",
       "        [28.8400],\n",
       "        [28.7300],\n",
       "        [28.8900],\n",
       "        [28.4700],\n",
       "        [29.0900],\n",
       "        [29.1600],\n",
       "        [29.4300],\n",
       "        [28.9200],\n",
       "        [28.7600],\n",
       "        [28.6300],\n",
       "        [28.6400],\n",
       "        [29.3400],\n",
       "        [29.0200],\n",
       "        [29.3100],\n",
       "        [28.7200],\n",
       "        [28.8900],\n",
       "        [29.0400],\n",
       "        [29.0900],\n",
       "        [29.1600],\n",
       "        [29.4100],\n",
       "        [29.1400],\n",
       "        [29.0700],\n",
       "        [29.6100],\n",
       "        [29.4700],\n",
       "        [29.1500],\n",
       "        [29.3100],\n",
       "        [29.4400],\n",
       "        [29.2600],\n",
       "        [28.8900],\n",
       "        [29.2700],\n",
       "        [29.4100],\n",
       "        [29.2300],\n",
       "        [29.6300],\n",
       "        [29.5800],\n",
       "        [29.3200],\n",
       "        [29.1200],\n",
       "        [29.1100],\n",
       "        [29.2800],\n",
       "        [29.6100],\n",
       "        [29.3300],\n",
       "        [29.7200],\n",
       "        [29.5500],\n",
       "        [29.1800],\n",
       "        [29.1400],\n",
       "        [29.3200],\n",
       "        [29.2300],\n",
       "        [29.5500],\n",
       "        [29.4600],\n",
       "        [30.1800],\n",
       "        [29.5800],\n",
       "        [29.0500],\n",
       "        [29.7000],\n",
       "        [29.8100],\n",
       "        [29.7500],\n",
       "        [29.9900],\n",
       "        [30.2300],\n",
       "        [29.7500],\n",
       "        [29.7900],\n",
       "        [29.6000],\n",
       "        [30.0600],\n",
       "        [29.8400],\n",
       "        [29.6400],\n",
       "        [30.3000],\n",
       "        [30.1300],\n",
       "        [29.8200],\n",
       "        [29.8100],\n",
       "        [29.8100],\n",
       "        [29.7200],\n",
       "        [29.9000],\n",
       "        [31.6300],\n",
       "        [31.4200]])"
      ]
     },
     "execution_count": 132,
     "metadata": {},
     "output_type": "execute_result"
    }
   ],
   "source": [
    "Y_t"
   ]
  },
  {
   "cell_type": "code",
   "execution_count": null,
   "id": "5787262d",
   "metadata": {},
   "outputs": [],
   "source": []
  },
  {
   "cell_type": "code",
   "execution_count": null,
   "id": "3c578d88",
   "metadata": {},
   "outputs": [],
   "source": []
  },
  {
   "cell_type": "code",
   "execution_count": null,
   "id": "7c52dcee",
   "metadata": {},
   "outputs": [],
   "source": []
  }
 ],
 "metadata": {
  "kernelspec": {
   "display_name": "Python 3",
   "language": "python",
   "name": "python3"
  },
  "language_info": {
   "codemirror_mode": {
    "name": "ipython",
    "version": 3
   },
   "file_extension": ".py",
   "mimetype": "text/x-python",
   "name": "python",
   "nbconvert_exporter": "python",
   "pygments_lexer": "ipython3",
   "version": "3.7.10"
  }
 },
 "nbformat": 4,
 "nbformat_minor": 5
}
